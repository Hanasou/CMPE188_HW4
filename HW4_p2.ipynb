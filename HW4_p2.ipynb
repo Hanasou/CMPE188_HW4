{
 "cells": [
  {
   "cell_type": "code",
   "execution_count": 1,
   "metadata": {},
   "outputs": [],
   "source": [
    "# Implement K-Modes\n",
    "# Get some random points in here just to test this whole thing out.\n",
    "# Randomly seed k points as centroids for the initial clusters\n",
    "# Assign all the closest points to a centroid to a cluster\n",
    "# Recalculate centroids by taking the mode of the points in the cluster\n",
    "# Repeat\n",
    "import random as rand\n",
    "import numpy as np\n",
    "import pandas as pd\n",
    "import scipy as sp\n",
    "import matplotlib.pyplot as plt\n",
    "%matplotlib inline"
   ]
  },
  {
   "cell_type": "code",
   "execution_count": 2,
   "metadata": {},
   "outputs": [],
   "source": [
    "# Read the wine data file\n",
    "wine_data = pd.read_csv('wine.data')\n",
    "\n",
    "# Convert the data frame into a numpy matrix.\n",
    "wine_data = wine_data.values"
   ]
  },
  {
   "cell_type": "code",
   "execution_count": null,
   "metadata": {},
   "outputs": [],
   "source": []
  },
  {
   "cell_type": "code",
   "execution_count": 82,
   "metadata": {},
   "outputs": [],
   "source": [
    "def kmodes(data, k):\n",
    "    \"\"\"\n",
    "    K Modes Algorithm\n",
    "    Takes in a numpy matrix that represents the values of a data set.\n",
    "    k is the initial number of modes (centroids) and clusters.\n",
    "    Return an array indicating which points belong to what cluster\n",
    "    \n",
    "    \"\"\"\n",
    "    # Randomly seed a number of centroids. Should have the same number of dimensions as the data set passed in. Vector should\n",
    "    # not extend bound of the points.\n",
    "    centroids = []\n",
    "    for i in range(0, k):\n",
    "        cent = []\n",
    "        for j in range(0,len(wine_data[0])):\n",
    "            cent.append(rand.randint(int(wine_data[:,j].min()), int(wine_data[:,j].max())))\n",
    "        centroids.append(cent)\n",
    "    centroids = np.array(centroids)\n",
    "    class_centers = []\n",
    "    for i in range(0,k):\n",
    "        class_centers.append([i, centroids[i]])\n",
    "    # Keep doing this until convergence\n",
    "    while True:\n",
    "        # Calculate the distances of the closest points of the centroids. Assign them to that class.\n",
    "        cluster_list = []\n",
    "        class_list = []\n",
    "        for vec in data:\n",
    "            dist_list = []\n",
    "            for i in range(0,len(class_centers)):\n",
    "                dist_list.append(np.linalg.norm(vec - class_centers[i][1]))\n",
    "            cluster_list.append(class_centers[dist_list.index(min(dist_list))][0])\n",
    "            class_list.append((cluster_list[:-1], vec))\n",
    "        #np.array(class_list)\n",
    "        #np.array(cluster_list)\n",
    "        # Recalculate centroids by taking the modes of each cluster.\n",
    "        new_centroids = []\n",
    "        for i in range(0,k):\n",
    "            new_cent = []\n",
    "            mode = 0\n",
    "            for tup in class_list:\n",
    "                pass\n",
    "        break\n",
    "    return cluster_list"
   ]
  },
  {
   "cell_type": "code",
   "execution_count": null,
   "metadata": {},
   "outputs": [],
   "source": []
  },
  {
   "cell_type": "code",
   "execution_count": null,
   "metadata": {},
   "outputs": [],
   "source": []
  }
 ],
 "metadata": {
  "kernelspec": {
   "display_name": "Python 3",
   "language": "python",
   "name": "python3"
  },
  "language_info": {
   "codemirror_mode": {
    "name": "ipython",
    "version": 3
   },
   "file_extension": ".py",
   "mimetype": "text/x-python",
   "name": "python",
   "nbconvert_exporter": "python",
   "pygments_lexer": "ipython3",
   "version": "3.7.1"
  }
 },
 "nbformat": 4,
 "nbformat_minor": 2
}
