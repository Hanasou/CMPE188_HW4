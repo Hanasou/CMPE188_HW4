{
 "cells": [
  {
   "cell_type": "code",
   "execution_count": 7,
   "metadata": {},
   "outputs": [],
   "source": [
    "# Implement K-Modes\n",
    "# Get some random points in here just to test this whole thing out.\n",
    "# Randomly seed k points as centroids for the initial clusters\n",
    "# Assign all the closest points to a centroid to a cluster\n",
    "# Recalculate centroids by taking the mode of the points in the cluster\n",
    "# Repeat\n",
    "import random as rand\n",
    "import numpy as np\n",
    "import pandas as pd\n",
    "import scipy as sp\n",
    "import matplotlib.pyplot as plt\n",
    "%matplotlib inline"
   ]
  },
  {
   "cell_type": "code",
   "execution_count": 99,
   "metadata": {},
   "outputs": [
    {
     "data": {
      "text/plain": [
       "array([[1.000e+00, 1.320e+01, 1.780e+00, ..., 1.050e+00, 3.400e+00,\n",
       "        1.050e+03],\n",
       "       [1.000e+00, 1.316e+01, 2.360e+00, ..., 1.030e+00, 3.170e+00,\n",
       "        1.185e+03],\n",
       "       [1.000e+00, 1.437e+01, 1.950e+00, ..., 8.600e-01, 3.450e+00,\n",
       "        1.480e+03],\n",
       "       ...,\n",
       "       [3.000e+00, 1.327e+01, 4.280e+00, ..., 5.900e-01, 1.560e+00,\n",
       "        8.350e+02],\n",
       "       [3.000e+00, 1.317e+01, 2.590e+00, ..., 6.000e-01, 1.620e+00,\n",
       "        8.400e+02],\n",
       "       [3.000e+00, 1.413e+01, 4.100e+00, ..., 6.100e-01, 1.600e+00,\n",
       "        5.600e+02]])"
      ]
     },
     "execution_count": 99,
     "metadata": {},
     "output_type": "execute_result"
    }
   ],
   "source": [
    "# Read the wine data file\n",
    "wine_data = pd.read_csv('wine.data')\n",
    "\n",
    "# Convert the data frame into a numpy matrix.\n",
    "wine_data = wine_data.values"
   ]
  },
  {
   "cell_type": "code",
   "execution_count": null,
   "metadata": {},
   "outputs": [],
   "source": []
  },
  {
   "cell_type": "code",
   "execution_count": 170,
   "metadata": {},
   "outputs": [],
   "source": [
    "def kmodes(data, k):\n",
    "    \"\"\"\n",
    "    K Modes Algorithm\n",
    "    Takes in a numpy matrix that represents the values of a data set.\n",
    "    k is the initial number of modes (centroids) and clusters.\n",
    "    Return an array indicating which points belong to what cluster\n",
    "    \n",
    "    \"\"\"\n",
    "    # Randomly seed a number of centroids. Should have the same number of dimensions as the data set passed in. Vector should\n",
    "    # not extend bound of the points.\n",
    "    centroids = []\n",
    "    for i in range(0, k):\n",
    "        cent = []\n",
    "        for j in range(0,len(wine_data[0])):\n",
    "            cent.append(rand.randint(int(wine_data[:,j].min()), int(wine_data[:,j].max())))\n",
    "        centroids.append(cent)\n",
    "    centroids = np.array(centroids)\n",
    "    \n",
    "    new_centroids = np.array([])\n",
    "    cluster_list = []\n",
    "    classes = []\n",
    "    for i in range(0,k):\n",
    "        classes.append((i, centroids[i]))\n",
    "    # Keep doing this until convergence\n",
    "    while True:\n",
    "        pass\n",
    "        # Calculate the distances of the closest points of the centroids. Assign them to that class.\n",
    "        for vec in wine_data:\n",
    "            dist_list = []\n",
    "            for i in range(0,len(classes)):\n",
    "                dist_list.append(np.linalg.norm(vec - classes[i][1]))\n",
    "                cluster_list.append(classes[dist_list.index(min(dist_list))][0])\n",
    "                \n",
    "        break\n",
    "        # Recalculate centroids by taking the modes.\n",
    "    return cluster_list"
   ]
  },
  {
   "cell_type": "code",
   "execution_count": null,
   "metadata": {},
   "outputs": [],
   "source": []
  },
  {
   "cell_type": "code",
   "execution_count": null,
   "metadata": {},
   "outputs": [],
   "source": []
  }
 ],
 "metadata": {
  "kernelspec": {
   "display_name": "Python 3",
   "language": "python",
   "name": "python3"
  },
  "language_info": {
   "codemirror_mode": {
    "name": "ipython",
    "version": 3
   },
   "file_extension": ".py",
   "mimetype": "text/x-python",
   "name": "python",
   "nbconvert_exporter": "python",
   "pygments_lexer": "ipython3",
   "version": "3.7.1"
  }
 },
 "nbformat": 4,
 "nbformat_minor": 2
}
